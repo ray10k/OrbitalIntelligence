{
 "cells": [
  {
   "cell_type": "markdown",
   "metadata": {},
   "source": [
    "Last time, linear regression was good enough to figure out where the dividing line runs. Now, what if there are multiple lines, or lines with wild curves? Time for gradient descent!"
   ]
  },
  {
   "cell_type": "code",
   "execution_count": 18,
   "metadata": {},
   "outputs": [],
   "source": [
    "from torch.utils.data import Dataset, DataLoader\n",
    "import torch as tc\n",
    "\n",
    "class GradientDescender:\n",
    "    def __init__(self,initial_dataset:Dataset):\n",
    "        self.dataset = initial_dataset\n",
    "\n",
    "NUMBER_OF_FEATURES = 4\n",
    "\n",
    "class GradientDataset(Dataset):\n",
    "    def __init__(self,data,labels):\n",
    "        super().__init__()\n",
    "        self.features:tc.Tensor = tc.tensor(data,dtype=tc.float32)\n",
    "        self.labels:tc.Tensor = tc.tensor(labels,dtype=tc.int8)\n",
    "    \n",
    "    def __getitem__(self,index) -> tuple[tc.Tensor, tc.Tensor]:\n",
    "        datapoint = self.features[index]\n",
    "        datalabel = self.labels[index]\n",
    "        return datapoint, datalabel\n",
    "\n",
    "    def __len__(self) -> int:\n",
    "        return self.labels.shape[0]"
   ]
  },
  {
   "cell_type": "code",
   "execution_count": 20,
   "metadata": {},
   "outputs": [
    {
     "name": "stdout",
     "output_type": "stream",
     "text": [
      "20\n",
      "tensor([0, 0, 0, 0, 0, 0, 0, 0, 0, 0, 1, 1, 1, 1, 1, 1, 1, 1, 1, 1],\n",
      "       dtype=torch.int8)\n",
      "tensor([[ 0.7700, -1.1400],\n",
      "        [-0.3300,  1.4400],\n",
      "        [ 0.9100, -3.0700],\n",
      "        [-0.3700, -1.9100],\n",
      "        [-0.6300, -1.5300],\n",
      "        [ 0.3900, -1.9900],\n",
      "        [-0.4900, -2.7400],\n",
      "        [-0.6800, -1.5200],\n",
      "        [-0.1000, -3.4300],\n",
      "        [-0.0500, -1.9500],\n",
      "        [ 3.8800,  0.6500],\n",
      "        [ 0.7300,  2.9700],\n",
      "        [ 0.8300,  3.9400],\n",
      "        [ 1.5900,  1.2500],\n",
      "        [ 1.1400,  3.9100],\n",
      "        [ 1.7300,  2.8000],\n",
      "        [ 1.3100,  1.8500],\n",
      "        [ 1.5600,  3.8500],\n",
      "        [ 1.2300,  2.5400],\n",
      "        [ 1.3300,  2.0300]])\n",
      "(tensor([ 0.7700, -1.1400]), tensor(0, dtype=torch.int8))\n"
     ]
    }
   ],
   "source": [
    "from numpy import array\n",
    "data = array([[ 0.77, -1.14],\n",
    "       [-0.33,  1.44],\n",
    "       [ 0.91, -3.07],\n",
    "       [-0.37, -1.91],\n",
    "       [-0.63, -1.53],\n",
    "       [ 0.39, -1.99],\n",
    "       [-0.49, -2.74],\n",
    "       [-0.68, -1.52],\n",
    "       [-0.1 , -3.43],\n",
    "       [-0.05, -1.95],\n",
    "       [ 3.88,  0.65],\n",
    "       [ 0.73,  2.97],\n",
    "       [ 0.83,  3.94],\n",
    "       [ 1.59,  1.25],\n",
    "       [ 1.14,  3.91],\n",
    "       [ 1.73,  2.8 ],\n",
    "       [ 1.31,  1.85],\n",
    "       [ 1.56,  3.85],\n",
    "       [ 1.23,  2.54],\n",
    "       [ 1.33,  2.03]])\n",
    "labels = array([0, 0, 0, 0, 0, 0, 0, 0, 0, 0, 1, 1, 1, 1, 1, 1, 1, 1, 1, 1])\n",
    "\n",
    "dataset = GradientDataset(data,labels)\n",
    "\n",
    "train_loader = DataLoader(dataset=dataset, batch_size=10, shuffle=True)"
   ]
  },
  {
   "cell_type": "code",
   "execution_count": 1,
   "metadata": {},
   "outputs": [
    {
     "ename": "IndentationError",
     "evalue": "expected an indented block after class definition on line 1 (1369685168.py, line 3)",
     "output_type": "error",
     "traceback": [
      "\u001b[0;36m  Cell \u001b[0;32mIn[1], line 3\u001b[0;36m\u001b[0m\n\u001b[0;31m    model = None\u001b[0m\n\u001b[0m    ^\u001b[0m\n\u001b[0;31mIndentationError\u001b[0m\u001b[0;31m:\u001b[0m expected an indented block after class definition on line 1\n"
     ]
    }
   ],
   "source": [
    "\n",
    "class LogisticRegression(tc.nn.Module):\n",
    "    def __init__(self,feature_count:int):\n",
    "        super().__init__() #Magic incantation to ensure it's a Module.\n",
    "        self.l_linear:tc.nn.Linear = tc.nn.Linear(in_features=feature_count, out_features=1)\n",
    "\n",
    "    def forward(self, x):\n",
    "        logit = self.l_linear(x)\n",
    "        probabilities = tc.sigmoid(logit)\n",
    "\n",
    "\n",
    "\n",
    "model = LogisticRegression(2)\n",
    "tc.optim.SGD(model.parameters(),lr = 0.05)\n",
    "epochs = 25 #Let's split the difference for now~ \n",
    "for epoch in range(epochs):\n",
    "    model.train()\n",
    "    for batch_id, (features,label) in enumerate(train_loader):\n",
    "        print(f\"e ({epoch}) b ({batch_id})\")\n",
    "        out = model(features)\n",
    "\n"
   ]
  },
  {
   "cell_type": "code",
   "execution_count": 4,
   "metadata": {},
   "outputs": [
    {
     "name": "stdout",
     "output_type": "stream",
     "text": [
      "Called the _init_ dunder.\n",
      "Called _call_ dunder, with value 1234\n",
      "Called _getitem_ dunder, with index 9\n",
      "Called _getitem_ dunder, with coordinates (1, 2)\n"
     ]
    }
   ],
   "source": [
    "class DunderExample:\n",
    "    def __init__(self):\n",
    "        print(\"Called the _init_ dunder.\")\n",
    "\n",
    "    def __call__(self,value:int):\n",
    "        print(f\"Called _call_ dunder, with value {value}\")\n",
    "    \n",
    "    def __getitem__(self,name):\n",
    "        if isinstance(name,tuple):\n",
    "            print(f\"Called _getitem_ dunder, with coordinates {name}\")\n",
    "        else:\n",
    "            print(f\"Called _getitem_ dunder, with index {name}\")\n",
    "\n",
    "example = DunderExample()\n",
    "example(1234)\n",
    "\n",
    "example[9]\n",
    "example[1,2]"
   ]
  }
 ],
 "metadata": {
  "kernelspec": {
   "display_name": "AI_project-ZtUy7KAZ",
   "language": "python",
   "name": "python3"
  },
  "language_info": {
   "codemirror_mode": {
    "name": "ipython",
    "version": 3
   },
   "file_extension": ".py",
   "mimetype": "text/x-python",
   "name": "python",
   "nbconvert_exporter": "python",
   "pygments_lexer": "ipython3",
   "version": "3.12.3"
  }
 },
 "nbformat": 4,
 "nbformat_minor": 2
}
