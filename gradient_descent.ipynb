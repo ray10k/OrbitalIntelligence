{
 "cells": [
  {
   "cell_type": "markdown",
   "metadata": {},
   "source": [
    "Last time, linear regression was good enough to figure out where the dividing line runs. Now, what if there are multiple lines, or lines with wild curves? Time for gradient descent!"
   ]
  },
  {
   "cell_type": "code",
   "execution_count": 1,
   "metadata": {},
   "outputs": [],
   "source": [
    "from torch.utils.data import Dataset, DataLoader\n",
    "import torch as tc\n",
    "\n",
    "class GradientDescender:\n",
    "    def __init__(self,initial_dataset:Dataset):\n",
    "        self.dataset = initial_dataset\n",
    "\n",
    "NUMBER_OF_FEATURES = 4\n",
    "\n",
    "class GradientDataset(Dataset):\n",
    "    def __init__(self,data,labels):\n",
    "        super().__init__()\n",
    "        self.features:tc.Tensor = tc.tensor(data,dtype=tc.float32)\n",
    "        self.labels:tc.Tensor = tc.tensor(labels,dtype=tc.float32)\n",
    "        self.featurecount:int = 0\n",
    "    \n",
    "    def __getitem__(self,index):\n",
    "        pass\n",
    "\n",
    "    def __len__(self) -> int:\n",
    "        return self.featurecount"
   ]
  }
 ],
 "metadata": {
  "kernelspec": {
   "display_name": "AI_project-ZtUy7KAZ",
   "language": "python",
   "name": "python3"
  },
  "language_info": {
   "codemirror_mode": {
    "name": "ipython",
    "version": 3
   },
   "file_extension": ".py",
   "mimetype": "text/x-python",
   "name": "python",
   "nbconvert_exporter": "python",
   "pygments_lexer": "ipython3",
   "version": "3.12.3"
  }
 },
 "nbformat": 4,
 "nbformat_minor": 2
}
