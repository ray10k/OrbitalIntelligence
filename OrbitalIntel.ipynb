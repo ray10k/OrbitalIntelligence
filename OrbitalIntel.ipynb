{
 "cells": [
  {
   "cell_type": "markdown",
   "id": "5a2fcdfa-bcd1-4a1b-b6ed-1613e429db56",
   "metadata": {},
   "source": [
    "# The Amazing Orbital Intelligence Pony Identifier\n",
    "This is a project to try and get a grip on how pytorch/torch works. Here's hoping for the best!\n",
    "\n",
    "First, some basic imports. Specifically the `array` type from numpy, since that is a convenient way to represent the data we'll work with."
   ]
  },
  {
   "cell_type": "code",
   "execution_count": 8,
   "id": "556ebf79",
   "metadata": {},
   "outputs": [],
   "source": [
    "from numpy import array\n",
    "import numpy.typing as npt\n",
    "from typing import Literal\n",
    "from math import floor"
   ]
  },
  {
   "cell_type": "markdown",
   "id": "ce99d39f",
   "metadata": {},
   "source": [
    "Next, setup. We're borrowing some pre-set values from [an existing repository](https://github.com/Lightning-AI/dl-fundamentals/blob/main/unit01-ml-intro/exercises/solutions/unit01_excercise_1/solution_ex1_early-stop.ipynb) here.\n",
    "\n"
   ]
  },
  {
   "cell_type": "code",
   "execution_count": 9,
   "id": "9089fd39-5fbb-4f1b-859b-4bf691e8df72",
   "metadata": {},
   "outputs": [],
   "source": [
    "dataset = array([[ 0.77, -1.14],\n",
    "       [-0.33,  1.44],\n",
    "       [ 0.91, -3.07],\n",
    "       [-0.37, -1.91],\n",
    "       [-0.63, -1.53],\n",
    "       [ 0.39, -1.99],\n",
    "       [-0.49, -2.74],\n",
    "       [-0.68, -1.52],\n",
    "       [-0.1 , -3.43],\n",
    "       [-0.05, -1.95],\n",
    "       [ 3.88,  0.65],\n",
    "       [ 0.73,  2.97],\n",
    "       [ 0.83,  3.94],\n",
    "       [ 1.59,  1.25],\n",
    "       [ 1.14,  3.91],\n",
    "       [ 1.73,  2.8 ],\n",
    "       [ 1.31,  1.85],\n",
    "       [ 1.56,  3.85],\n",
    "       [ 1.23,  2.54],\n",
    "       [ 1.33,  2.03]])\n",
    "\n",
    "true_values = array([0, 0, 0, 0, 0, 0, 0, 0, 0, 0, 1, 1, 1, 1, 1, 1, 1, 1, 1, 1])\n",
    "\n",
    "class BasicPerceptron:\n",
    "    def __init__(self, w_count:int):\n",
    "        self.number_of_weigths:int = w_count\n",
    "        self.weights:list[float] = [0.0] * w_count\n",
    "        self.bias:float = 0.0\n",
    "    \n",
    "    def update(self,data:tuple[float,float],label:Literal[1,0]) -> float:\n",
    "        assert len(data) == len(self.weights)\n",
    "\n",
    "        model_result:float = self.forward(data)\n",
    "        \n",
    "        error:float = float(label) - model_result\n",
    "        self.bias += error\n",
    "\n",
    "        for index in range(len(self.weights)):\n",
    "            self.weights[index] += (error * data[index]) #??\n",
    "        \n",
    "        return error\n",
    "    \n",
    "    def forward(self, input_data:array) -> Literal[1,0]:\n",
    "        assert len(input_data) == len(self.weights)\n",
    "\n",
    "        weighted_sum = self.bias\n",
    "        for weight, in_val in zip(self.weights,input_data):\n",
    "            weighted_sum += weight * in_val\n",
    "        if weighted_sum > 0:\n",
    "            return 1\n",
    "        return 0\n",
    "    \n",
    "    def assess_accuracy(self,inputs:array,expected:array):\n",
    "        assert len(inputs) == len(expected)\n",
    "        result = float(0.0)\n",
    "        for sample,exp in zip(inputs,expected):\n",
    "            prediction = self.forward(sample)\n",
    "            #Fun fact: int(True) == 1\n",
    "            result += int(prediction == exp)\n",
    "        return float(result) / float(len(inputs))\n",
    "    \n",
    "    def get_dividing_line(self) -> tuple[float,float]:\n",
    "        x_intercept = (-1 * self.bias) / self.weights[1]\n",
    "        y_intercept = (-1 * self.bias) / self.weights[0]\n",
    "        return (x_intercept,y_intercept)\n",
    "    \n",
    "def init_perceptron(epochs:int, w_count:int, update_weights:array, update_labels:array) -> tuple[BasicPerceptron,list[tuple[float,float]]]:\n",
    "    assert len(update_weights) == len(update_labels)\n",
    "    assert all(len(data) == w_count for data in update_weights)\n",
    "    perceptron = BasicPerceptron(w_count)\n",
    "    step_lines = list()\n",
    "\n",
    "    for epoch in range(epochs):\n",
    "        absolute_err:float = 0.0\n",
    "        for data,label in zip(update_weights,update_labels):\n",
    "            absolute_err += abs(perceptron.update(data,label))\n",
    "        step_lines.append(perceptron.get_dividing_line())\n",
    "        print(f\"Epoch {epoch+1}: e {floor(absolute_err)}\")\n",
    "        if not bool(absolute_err):\n",
    "            print(\"Error is zero, ending now.\")\n",
    "            break\n",
    "\n",
    "    return perceptron, step_lines\n",
    "\n"
   ]
  },
  {
   "cell_type": "markdown",
   "id": "3baabff2",
   "metadata": {},
   "source": [
    "Now that everything is set up and initialized, run the actual perceptron.\n"
   ]
  },
  {
   "cell_type": "code",
   "execution_count": 10,
   "id": "06cc3fe4",
   "metadata": {},
   "outputs": [
    {
     "name": "stdout",
     "output_type": "stream",
     "text": [
      "Epoch 1: e 1\n",
      "Epoch 2: e 3\n",
      "Epoch 3: e 1\n",
      "Epoch 4: e 0\n",
      "Error is zero, ending now.\n",
      "[1.1, 2.1] -> 1\n",
      "Model accuracy: 100.0%\n"
     ]
    }
   ],
   "source": [
    "my_perceptron,lines = init_perceptron(5,2,dataset,true_values)\n",
    "\n",
    "x = [1.1,2.1]\n",
    "print(f\"{x} -> {my_perceptron.forward(x)}\")\n",
    "print(f\"Model accuracy: {my_perceptron.assess_accuracy(dataset,true_values) * 100}%\")"
   ]
  },
  {
   "cell_type": "markdown",
   "id": "aac6d5bf",
   "metadata": {},
   "source": [
    "The perceptron works! So, next step: Make some pretty pictures!"
   ]
  },
  {
   "cell_type": "code",
   "execution_count": 14,
   "id": "eafd1a0b",
   "metadata": {},
   "outputs": [
    {
     "data": {
      "image/png": "[encoded data removed]",
      "text/plain": [
       "<Figure size 640x480 with 1 Axes>"
      ]
     },
     "metadata": {},
     "output_type": "display_data"
    }
   ],
   "source": [
    "%matplotlib inline\n",
    "import matplotlib.pyplot as plt\n",
    "\n",
    "# step 1: plot out the parts of the dataset that are in the 'false' category.\n",
    "# dataset is the data-set, true_values says which items fall in which category.\n",
    "false_category =  dataset[true_values == 0]\n",
    "plt.plot(false_category[:,0],false_category[:,1], color='green', marker='s', linestyle='')\n",
    "\n",
    "# step 2: plot out the parts of the dataset that are in the 'true' category.\n",
    "true_category = dataset[true_values == 1]\n",
    "plt.plot(true_category[:,0], true_category[:,1], color='blue', marker='o', linestyle='')\n",
    "\n",
    "# step 3: plot what the perceptron arrived at. Out of curiosity\n",
    "colors = ['#cc1188', '#dd0744', '#ee2233', '#ff1122']\n",
    "\n",
    "for color,coords in zip(colors,lines):\n",
    "    plt.plot([0,coords[1]],[coords[0],0],color=color,marker='v',linestyle='-')\n",
    "\n",
    "# step 4: add axes\n",
    "plt.grid(True)\n",
    "\n",
    "#plt.plot([my_perceptron.bias],[my_perceptron.bias], color='red', marker='v', linestyle='')\n"
   ]
  }
 ],
 "metadata": {
  "kernelspec": {
   "display_name": "AI_project-ZtUy7KAZ",
   "language": "python",
   "name": "python3"
  },
  "language_info": {
   "codemirror_mode": {
    "name": "ipython",
    "version": 3
   },
   "file_extension": ".py",
   "mimetype": "text/x-python",
   "name": "python",
   "nbconvert_exporter": "python",
   "pygments_lexer": "ipython3",
   "version": "3.12.3"
  }
 },
 "nbformat": 4,
 "nbformat_minor": 5
}
