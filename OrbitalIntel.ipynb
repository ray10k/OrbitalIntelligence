{
 "cells": [
  {
   "cell_type": "markdown",
   "id": "5a2fcdfa-bcd1-4a1b-b6ed-1613e429db56",
   "metadata": {},
   "source": [
    "# The Amazing Orbital Intelligence Pony Identifier\n",
    "This is a project to try and get a grip on how pytorch/torch works. Here's hoping for the best!"
   ]
  },
  {
   "cell_type": "code",
   "execution_count": 3,
   "id": "b6b5d511-ed94-4d2d-8696-88824ef9b128",
   "metadata": {},
   "outputs": [
    {
     "name": "stdout",
     "output_type": "stream",
     "text": [
      "hello world!\n"
     ]
    }
   ],
   "source": [
    "print(\"hello world!\")\n",
    "a = 10"
   ]
  },
  {
   "cell_type": "code",
   "execution_count": 4,
   "id": "e6e0b72d-262a-464d-94be-825e18ca3fd4",
   "metadata": {},
   "outputs": [
    {
     "data": {
      "text/plain": [
       "10"
      ]
     },
     "execution_count": 4,
     "metadata": {},
     "output_type": "execute_result"
    }
   ],
   "source": [
    "a"
   ]
  },
  {
   "cell_type": "code",
   "execution_count": null,
   "id": "9089fd39-5fbb-4f1b-859b-4bf691e8df72",
   "metadata": {},
   "outputs": [],
   "source": []
  }
 ],
 "metadata": {
  "kernelspec": {
   "display_name": "Python 3 (ipykernel)",
   "language": "python",
   "name": "python3"
  },
  "language_info": {
   "codemirror_mode": {
    "name": "ipython",
    "version": 3
   },
   "file_extension": ".py",
   "mimetype": "text/x-python",
   "name": "python",
   "nbconvert_exporter": "python",
   "pygments_lexer": "ipython3",
   "version": "3.12.3"
  }
 },
 "nbformat": 4,
 "nbformat_minor": 5
}
