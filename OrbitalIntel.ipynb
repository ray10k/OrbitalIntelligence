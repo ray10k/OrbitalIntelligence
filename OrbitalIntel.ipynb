{
 "cells": [
  {
   "cell_type": "markdown",
   "id": "5a2fcdfa-bcd1-4a1b-b6ed-1613e429db56",
   "metadata": {},
   "source": [
    "# The Amazing Orbital Intelligence Pony Identifier\n",
    "This is a project to try and get a grip on how pytorch/torch works. Here's hoping for the best!\n",
    "\n",
    "First, some basic imports. Specifically the `array` type from numpy, since that is a convenient way to represent the data we'll work with."
   ]
  },
  {
   "cell_type": "code",
   "execution_count": null,
   "id": "556ebf79",
   "metadata": {},
   "outputs": [],
   "source": [
    "from numpy import array\n",
    "from typing import Literal"
   ]
  },
  {
   "cell_type": "markdown",
   "id": "ce99d39f",
   "metadata": {},
   "source": [
    "Next, setup. We're borrowing some pre-set values from [an existing repository](https://github.com/Lightning-AI/dl-fundamentals/blob/main/unit01-ml-intro/exercises/solutions/unit01_excercise_1/solution_ex1_early-stop.ipynb) here.\n",
    "\n"
   ]
  },
  {
   "cell_type": "code",
   "execution_count": null,
   "id": "9089fd39-5fbb-4f1b-859b-4bf691e8df72",
   "metadata": {},
   "outputs": [],
   "source": [
    "pretrained_weights = array([[ 0.77, -1.14],\n",
    "       [-0.33,  1.44],\n",
    "       [ 0.91, -3.07],\n",
    "       [-0.37, -1.91],\n",
    "       [-0.63, -1.53],\n",
    "       [ 0.39, -1.99],\n",
    "       [-0.49, -2.74],\n",
    "       [-0.68, -1.52],\n",
    "       [-0.1 , -3.43],\n",
    "       [-0.05, -1.95],\n",
    "       [ 3.88,  0.65],\n",
    "       [ 0.73,  2.97],\n",
    "       [ 0.83,  3.94],\n",
    "       [ 1.59,  1.25],\n",
    "       [ 1.14,  3.91],\n",
    "       [ 1.73,  2.8 ],\n",
    "       [ 1.31,  1.85],\n",
    "       [ 1.56,  3.85],\n",
    "       [ 1.23,  2.54],\n",
    "       [ 1.33,  2.03]])\n",
    "\n",
    "true_values = array([0, 0, 0, 0, 0, 0, 0, 0, 0, 0, 1, 1, 1, 1, 1, 1, 1, 1, 1, 1])\n",
    "\n",
    "class BasicPerceptron:\n",
    "    def __init__(self, w_count:int):\n",
    "        self.number_of_weigths:int = w_count\n",
    "        self.weights:list[float] = [0.0] * w_count\n",
    "        self.bias:float = 0.0\n",
    "    \n",
    "    def update(self,data:tuple[float,float],label:Literal[1,0]) -> float:\n",
    "        assert len(data) == len(self.weights)\n",
    "\n",
    "        model_result:float = 0.0\n",
    "        \n",
    "        error:float = float(label) - model_result\n",
    "        self.bias += error\n",
    "\n",
    "        for index in range(len(self.weights)):\n",
    "            self.weights[index] += (error * data[index]) #??\n",
    "        \n",
    "        return error"
   ]
  }
 ],
 "metadata": {
  "kernelspec": {
   "display_name": "Python 3 (ipykernel)",
   "language": "python",
   "name": "python3"
  },
  "language_info": {
   "codemirror_mode": {
    "name": "ipython",
    "version": 3
   },
   "file_extension": ".py",
   "mimetype": "text/x-python",
   "name": "python",
   "nbconvert_exporter": "python",
   "pygments_lexer": "ipython3",
   "version": "3.12.3"
  }
 },
 "nbformat": 4,
 "nbformat_minor": 5
}
